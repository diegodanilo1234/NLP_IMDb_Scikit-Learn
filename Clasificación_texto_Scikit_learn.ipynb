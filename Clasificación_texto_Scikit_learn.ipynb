{
  "cells": [
    {
      "cell_type": "markdown",
      "source": [
        "## Clasificador de texto de IMDb con Scikit-Learn\n",
        "\n",
        "En este proyecto vamos a clasificar el texto de las review de peliculas realizadas en el sitio web IMDb. Para llevar acabo este proyecto se utilizara la libreria Scikit-Learn de python aplicando 4 algoritmos como son máquinas de soporte vectorial, arboles de decisión, naive bayes y regresión logística. "
      ],
      "metadata": {
        "id": "llLZ5U1JuI9x"
      }
    },
    {
      "cell_type": "markdown",
      "source": [
        "# 1. Configuramos el ambiente de trabajo\n",
        "\n",
        "Se procede a realizar la configuración de nuestro entorno en la nube, para que se comporte como un entorno local de trabajo y se pueda manejar el sistema de archivos."
      ],
      "metadata": {
        "id": "CIVTNewWzpHJ"
      }
    },
    {
      "cell_type": "code",
      "source": [
        "from google.colab import drive\n",
        "drive.mount (\"/content/drive\")"
      ],
      "metadata": {
        "colab": {
          "base_uri": "https://localhost:8080/"
        },
        "id": "wytPpKV5zuJp",
        "outputId": "11c03218-e75e-4d44-f735-6b30aeaaa887"
      },
      "execution_count": 69,
      "outputs": [
        {
          "output_type": "stream",
          "name": "stdout",
          "text": [
            "Drive already mounted at /content/drive; to attempt to forcibly remount, call drive.mount(\"/content/drive\", force_remount=True).\n"
          ]
        }
      ]
    },
    {
      "cell_type": "code",
      "source": [
        "%cd \"/content/drive/My Drive/Colab Notebooks/Bases de datos\"\n",
        "!ls"
      ],
      "metadata": {
        "colab": {
          "base_uri": "https://localhost:8080/"
        },
        "id": "xnmQWFwgzqiJ",
        "outputId": "52f03364-dc85-4b8b-b581-dea694dde2eb"
      },
      "execution_count": 70,
      "outputs": [
        {
          "output_type": "stream",
          "name": "stdout",
          "text": [
            "/content/drive/My Drive/Colab Notebooks/Bases de datos\n",
            " BasePruebaTecnicaCientifico.csv  'IMDB Dataset.csv'\n"
          ]
        }
      ]
    },
    {
      "cell_type": "markdown",
      "metadata": {
        "id": "OvYB5cL-jsX2"
      },
      "source": [
        "# 2. Preparar data"
      ]
    },
    {
      "cell_type": "markdown",
      "metadata": {
        "id": "x6S50SO1jxYU"
      },
      "source": [
        "## 2.1 Importamos las librerias"
      ]
    },
    {
      "cell_type": "code",
      "execution_count": 71,
      "metadata": {
        "id": "eBr1zO1Fj1Ns"
      },
      "outputs": [],
      "source": [
        "# Importamos librerias\n",
        "import pandas as pd # Libreria para el tratamiento de DataFrames\n",
        "import numpy as np # Libreria númerica\n",
        "import matplotlib.pyplot as plt # Libreria gráfica\n",
        "import seaborn as sns # Libreria gráfica\n",
        "from imblearn.under_sampling import RandomUnderSampler # Balanceo\n",
        "from sklearn.model_selection import train_test_split # Dividir los datos en entrenamiento y prueba\n",
        "from sklearn.feature_extraction.text import TfidfVectorizer # Transformar texto en datos\n",
        "from sklearn.svm import SVC # Máquinas de vectores de soporte\n",
        "from sklearn.tree import DecisionTreeClassifier # Arboles de decisión\n",
        "from sklearn.naive_bayes import GaussianNB # Naive bayes\n",
        "from sklearn.linear_model import LogisticRegression # Regresión logistica\n",
        "from sklearn.metrics import f1_score # Precisión\n",
        "from sklearn.metrics import classification_report # Reporte de clasificación\n",
        "from sklearn.metrics import confusion_matrix # Matriz de confusión\n",
        "from sklearn.model_selection import GridSearchCV # Grid Search\n"
      ]
    },
    {
      "cell_type": "markdown",
      "metadata": {
        "id": "uUmcZiM9kAeP"
      },
      "source": [
        "## 2.2 Cargamos el Dataset"
      ]
    },
    {
      "cell_type": "code",
      "execution_count": 72,
      "metadata": {
        "id": "tT2jsWwnkEMV"
      },
      "outputs": [],
      "source": [
        "# Cargamos el dataset\n",
        "df_review = pd.read_csv(\"IMDB Dataset.csv\")"
      ]
    },
    {
      "cell_type": "code",
      "execution_count": 73,
      "metadata": {
        "colab": {
          "base_uri": "https://localhost:8080/",
          "height": 206
        },
        "id": "9bZV8LMlkQN5",
        "outputId": "895a6787-be36-4a35-c0e1-369e48976bc4"
      },
      "outputs": [
        {
          "output_type": "execute_result",
          "data": {
            "text/html": [
              "\n",
              "  <div id=\"df-775b3180-29b3-42dc-b726-79b6d6a2039c\">\n",
              "    <div class=\"colab-df-container\">\n",
              "      <div>\n",
              "<style scoped>\n",
              "    .dataframe tbody tr th:only-of-type {\n",
              "        vertical-align: middle;\n",
              "    }\n",
              "\n",
              "    .dataframe tbody tr th {\n",
              "        vertical-align: top;\n",
              "    }\n",
              "\n",
              "    .dataframe thead th {\n",
              "        text-align: right;\n",
              "    }\n",
              "</style>\n",
              "<table border=\"1\" class=\"dataframe\">\n",
              "  <thead>\n",
              "    <tr style=\"text-align: right;\">\n",
              "      <th></th>\n",
              "      <th>review</th>\n",
              "      <th>sentiment</th>\n",
              "    </tr>\n",
              "  </thead>\n",
              "  <tbody>\n",
              "    <tr>\n",
              "      <th>0</th>\n",
              "      <td>One of the other reviewers has mentioned that ...</td>\n",
              "      <td>positive</td>\n",
              "    </tr>\n",
              "    <tr>\n",
              "      <th>1</th>\n",
              "      <td>A wonderful little production. &lt;br /&gt;&lt;br /&gt;The...</td>\n",
              "      <td>positive</td>\n",
              "    </tr>\n",
              "    <tr>\n",
              "      <th>2</th>\n",
              "      <td>I thought this was a wonderful way to spend ti...</td>\n",
              "      <td>positive</td>\n",
              "    </tr>\n",
              "    <tr>\n",
              "      <th>3</th>\n",
              "      <td>Basically there's a family where a little boy ...</td>\n",
              "      <td>negative</td>\n",
              "    </tr>\n",
              "    <tr>\n",
              "      <th>4</th>\n",
              "      <td>Petter Mattei's \"Love in the Time of Money\" is...</td>\n",
              "      <td>positive</td>\n",
              "    </tr>\n",
              "  </tbody>\n",
              "</table>\n",
              "</div>\n",
              "      <button class=\"colab-df-convert\" onclick=\"convertToInteractive('df-775b3180-29b3-42dc-b726-79b6d6a2039c')\"\n",
              "              title=\"Convert this dataframe to an interactive table.\"\n",
              "              style=\"display:none;\">\n",
              "        \n",
              "  <svg xmlns=\"http://www.w3.org/2000/svg\" height=\"24px\"viewBox=\"0 0 24 24\"\n",
              "       width=\"24px\">\n",
              "    <path d=\"M0 0h24v24H0V0z\" fill=\"none\"/>\n",
              "    <path d=\"M18.56 5.44l.94 2.06.94-2.06 2.06-.94-2.06-.94-.94-2.06-.94 2.06-2.06.94zm-11 1L8.5 8.5l.94-2.06 2.06-.94-2.06-.94L8.5 2.5l-.94 2.06-2.06.94zm10 10l.94 2.06.94-2.06 2.06-.94-2.06-.94-.94-2.06-.94 2.06-2.06.94z\"/><path d=\"M17.41 7.96l-1.37-1.37c-.4-.4-.92-.59-1.43-.59-.52 0-1.04.2-1.43.59L10.3 9.45l-7.72 7.72c-.78.78-.78 2.05 0 2.83L4 21.41c.39.39.9.59 1.41.59.51 0 1.02-.2 1.41-.59l7.78-7.78 2.81-2.81c.8-.78.8-2.07 0-2.86zM5.41 20L4 18.59l7.72-7.72 1.47 1.35L5.41 20z\"/>\n",
              "  </svg>\n",
              "      </button>\n",
              "      \n",
              "  <style>\n",
              "    .colab-df-container {\n",
              "      display:flex;\n",
              "      flex-wrap:wrap;\n",
              "      gap: 12px;\n",
              "    }\n",
              "\n",
              "    .colab-df-convert {\n",
              "      background-color: #E8F0FE;\n",
              "      border: none;\n",
              "      border-radius: 50%;\n",
              "      cursor: pointer;\n",
              "      display: none;\n",
              "      fill: #1967D2;\n",
              "      height: 32px;\n",
              "      padding: 0 0 0 0;\n",
              "      width: 32px;\n",
              "    }\n",
              "\n",
              "    .colab-df-convert:hover {\n",
              "      background-color: #E2EBFA;\n",
              "      box-shadow: 0px 1px 2px rgba(60, 64, 67, 0.3), 0px 1px 3px 1px rgba(60, 64, 67, 0.15);\n",
              "      fill: #174EA6;\n",
              "    }\n",
              "\n",
              "    [theme=dark] .colab-df-convert {\n",
              "      background-color: #3B4455;\n",
              "      fill: #D2E3FC;\n",
              "    }\n",
              "\n",
              "    [theme=dark] .colab-df-convert:hover {\n",
              "      background-color: #434B5C;\n",
              "      box-shadow: 0px 1px 3px 1px rgba(0, 0, 0, 0.15);\n",
              "      filter: drop-shadow(0px 1px 2px rgba(0, 0, 0, 0.3));\n",
              "      fill: #FFFFFF;\n",
              "    }\n",
              "  </style>\n",
              "\n",
              "      <script>\n",
              "        const buttonEl =\n",
              "          document.querySelector('#df-775b3180-29b3-42dc-b726-79b6d6a2039c button.colab-df-convert');\n",
              "        buttonEl.style.display =\n",
              "          google.colab.kernel.accessAllowed ? 'block' : 'none';\n",
              "\n",
              "        async function convertToInteractive(key) {\n",
              "          const element = document.querySelector('#df-775b3180-29b3-42dc-b726-79b6d6a2039c');\n",
              "          const dataTable =\n",
              "            await google.colab.kernel.invokeFunction('convertToInteractive',\n",
              "                                                     [key], {});\n",
              "          if (!dataTable) return;\n",
              "\n",
              "          const docLinkHtml = 'Like what you see? Visit the ' +\n",
              "            '<a target=\"_blank\" href=https://colab.research.google.com/notebooks/data_table.ipynb>data table notebook</a>'\n",
              "            + ' to learn more about interactive tables.';\n",
              "          element.innerHTML = '';\n",
              "          dataTable['output_type'] = 'display_data';\n",
              "          await google.colab.output.renderOutput(dataTable, element);\n",
              "          const docLink = document.createElement('div');\n",
              "          docLink.innerHTML = docLinkHtml;\n",
              "          element.appendChild(docLink);\n",
              "        }\n",
              "      </script>\n",
              "    </div>\n",
              "  </div>\n",
              "  "
            ],
            "text/plain": [
              "                                              review sentiment\n",
              "0  One of the other reviewers has mentioned that ...  positive\n",
              "1  A wonderful little production. <br /><br />The...  positive\n",
              "2  I thought this was a wonderful way to spend ti...  positive\n",
              "3  Basically there's a family where a little boy ...  negative\n",
              "4  Petter Mattei's \"Love in the Time of Money\" is...  positive"
            ]
          },
          "metadata": {},
          "execution_count": 73
        }
      ],
      "source": [
        "# Observamos las 5 primeras filas\n",
        "df_review.head()"
      ]
    },
    {
      "cell_type": "code",
      "source": [
        "# Observamos la cantidad de datos\n",
        "df_review.value_counts('sentiment')"
      ],
      "metadata": {
        "colab": {
          "base_uri": "https://localhost:8080/"
        },
        "id": "zeb0Yy8sxsA_",
        "outputId": "52191c92-a323-45ff-f16c-de898dba6213"
      },
      "execution_count": 74,
      "outputs": [
        {
          "output_type": "execute_result",
          "data": {
            "text/plain": [
              "sentiment\n",
              "negative    25000\n",
              "positive    25000\n",
              "dtype: int64"
            ]
          },
          "metadata": {},
          "execution_count": 74
        }
      ]
    },
    {
      "cell_type": "code",
      "source": [
        "# Aplicamos desbalanceado\n",
        "df_positivo = df_review[df_review['sentiment']=='positive'][:9000]\n",
        "df_negativo = df_review[df_review['sentiment']=='negative'][:1000]\n",
        "\n",
        "df_review_des = pd.concat([df_positivo, df_negativo])\n",
        "df_review_des.value_counts('sentiment')"
      ],
      "metadata": {
        "colab": {
          "base_uri": "https://localhost:8080/"
        },
        "id": "8Wpqmi4Hx2iP",
        "outputId": "3b4d89c2-8d13-4fd6-9f27-0d47933e122e"
      },
      "execution_count": 75,
      "outputs": [
        {
          "output_type": "execute_result",
          "data": {
            "text/plain": [
              "sentiment\n",
              "positive    9000\n",
              "negative    1000\n",
              "dtype: int64"
            ]
          },
          "metadata": {},
          "execution_count": 75
        }
      ]
    },
    {
      "cell_type": "markdown",
      "source": [
        "## 2.3 Balanceando Dataset"
      ],
      "metadata": {
        "id": "yCqZqRFEx7wQ"
      }
    },
    {
      "cell_type": "code",
      "source": [
        "# Balancemos con RandomUnderSampler\n",
        "rus = RandomUnderSampler()\n",
        "df_review_bal, df_review_bal['sentiment'] = rus.fit_resample(df_review_des[['review']],\n",
        "                                                          df_review_des['sentiment'])\n",
        "\n",
        "df_review_bal.value_counts(['sentiment'])"
      ],
      "metadata": {
        "colab": {
          "base_uri": "https://localhost:8080/"
        },
        "id": "FdQ2BWSKx_Hn",
        "outputId": "ccc160d5-a40f-4904-a133-b426b80014cc"
      },
      "execution_count": 76,
      "outputs": [
        {
          "output_type": "execute_result",
          "data": {
            "text/plain": [
              "sentiment\n",
              "negative     1000\n",
              "positive     1000\n",
              "dtype: int64"
            ]
          },
          "metadata": {},
          "execution_count": 76
        }
      ]
    },
    {
      "cell_type": "markdown",
      "metadata": {
        "id": "r6JLG1U50OBG"
      },
      "source": [
        "## 2.4 Seperación data para entrenar (train) y testear(test)"
      ]
    },
    {
      "cell_type": "code",
      "execution_count": 77,
      "metadata": {
        "id": "L9DVNqwN0Y1d"
      },
      "outputs": [],
      "source": [
        "# Dividimos los datos\n",
        "train, test = train_test_split(df_review_bal, test_size=0.20, random_state=42)"
      ]
    },
    {
      "cell_type": "code",
      "execution_count": 78,
      "metadata": {
        "id": "E9SaKnIf1WoX"
      },
      "outputs": [],
      "source": [
        "# Creamos las variables x y \n",
        "x_train, y_train = train[\"review\"], train[\"sentiment\"]\n",
        "x_test, y_test = test[\"review\"], test[\"sentiment\"]"
      ]
    },
    {
      "cell_type": "markdown",
      "metadata": {
        "id": "ZlNO6nOQ7W5y"
      },
      "source": [
        "# 3. Representación de texto (Bag of Words)"
      ]
    },
    {
      "cell_type": "code",
      "execution_count": 79,
      "metadata": {
        "id": "7dZz1JyR7ewK"
      },
      "outputs": [],
      "source": [
        "# transformamos los datos\n",
        "\n",
        "tfidf = TfidfVectorizer(stop_words='english')\n",
        "train_x_vector = tfidf.fit_transform(x_train)\n",
        "\n",
        "test_x_vector = tfidf.transform(x_test)"
      ]
    },
    {
      "cell_type": "code",
      "execution_count": 80,
      "metadata": {
        "colab": {
          "base_uri": "https://localhost:8080/"
        },
        "id": "bxxhlMEFA10f",
        "outputId": "ea52c82e-3c46-413c-b024-cf111d78b2e7"
      },
      "outputs": [
        {
          "output_type": "execute_result",
          "data": {
            "text/plain": [
              "<1600x22629 sparse matrix of type '<class 'numpy.float64'>'\n",
              "\twith 142443 stored elements in Compressed Sparse Row format>"
            ]
          },
          "metadata": {},
          "execution_count": 80
        }
      ],
      "source": [
        "# Observamos el train_x_vector\n",
        "train_x_vector"
      ]
    },
    {
      "cell_type": "markdown",
      "metadata": {
        "id": "OlJvnuq_Bnlv"
      },
      "source": [
        "# 4. Aplicación de  Scikit-Learn"
      ]
    },
    {
      "cell_type": "markdown",
      "metadata": {
        "id": "9ubd_dLiBtsG"
      },
      "source": [
        "## 4.1 Support Vector Machines (SVM)"
      ]
    },
    {
      "cell_type": "code",
      "execution_count": 81,
      "metadata": {
        "colab": {
          "base_uri": "https://localhost:8080/"
        },
        "id": "K-mEvObEBwCu",
        "outputId": "750bf7d8-e631-43fa-d5c0-f61291467fd0"
      },
      "outputs": [
        {
          "output_type": "execute_result",
          "data": {
            "text/plain": [
              "SVC(kernel='linear')"
            ]
          },
          "metadata": {},
          "execution_count": 81
        }
      ],
      "source": [
        "svc = SVC(kernel='linear')\n",
        "svc.fit(train_x_vector, y_train)\n"
      ]
    },
    {
      "cell_type": "markdown",
      "metadata": {
        "id": "mRe4trmVDDbp"
      },
      "source": [
        "## Testeo"
      ]
    },
    {
      "cell_type": "code",
      "execution_count": 82,
      "metadata": {
        "colab": {
          "base_uri": "https://localhost:8080/"
        },
        "id": "e3vJ937qDFvo",
        "outputId": "9badc16f-aece-4b9b-ab47-b98e79c3e541"
      },
      "outputs": [
        {
          "output_type": "stream",
          "name": "stdout",
          "text": [
            "['positive']\n",
            "['positive']\n",
            "['negative']\n"
          ]
        }
      ],
      "source": [
        "print(svc.predict(tfidf.transform(['A good movie']))) #buena pelicula\n",
        "print(svc.predict(tfidf.transform(['An excellent movie']))) #excelente pelicula\n",
        "print(svc.predict(tfidf.transform(['\"I did not like this movie at all I gave this movie away\"'])))# no gusto"
      ]
    },
    {
      "cell_type": "markdown",
      "metadata": {
        "id": "gREg7YsUD_z8"
      },
      "source": [
        "## 4.2 Decision Tree"
      ]
    },
    {
      "cell_type": "code",
      "execution_count": 83,
      "metadata": {
        "id": "Ufkr-l_zECDC",
        "colab": {
          "base_uri": "https://localhost:8080/"
        },
        "outputId": "b0f9df1c-0426-4086-cbd6-abe71d422f1c"
      },
      "outputs": [
        {
          "output_type": "execute_result",
          "data": {
            "text/plain": [
              "DecisionTreeClassifier()"
            ]
          },
          "metadata": {},
          "execution_count": 83
        }
      ],
      "source": [
        "dec_tree = DecisionTreeClassifier()\n",
        "dec_tree.fit(train_x_vector,y_train)\n"
      ]
    },
    {
      "cell_type": "markdown",
      "metadata": {
        "id": "LnqwmTOIEHbC"
      },
      "source": [
        "## 4.3 Naive Bayes"
      ]
    },
    {
      "cell_type": "code",
      "execution_count": 84,
      "metadata": {
        "id": "mfMMHkF4EJAK",
        "colab": {
          "base_uri": "https://localhost:8080/"
        },
        "outputId": "fbfe7aa3-66c7-42f6-db36-554a070e1cb4"
      },
      "outputs": [
        {
          "output_type": "execute_result",
          "data": {
            "text/plain": [
              "GaussianNB()"
            ]
          },
          "metadata": {},
          "execution_count": 84
        }
      ],
      "source": [
        "gnb = GaussianNB()\n",
        "gnb.fit(train_x_vector.toarray(), y_train)\n"
      ]
    },
    {
      "cell_type": "markdown",
      "metadata": {
        "id": "s9eUsuO_EKz6"
      },
      "source": [
        "## 4.4 Logistic Regression"
      ]
    },
    {
      "cell_type": "code",
      "execution_count": 85,
      "metadata": {
        "id": "Rzo1VPLzEOKL",
        "colab": {
          "base_uri": "https://localhost:8080/"
        },
        "outputId": "5891efad-9a73-4d49-8617-3f74aee4af78"
      },
      "outputs": [
        {
          "output_type": "execute_result",
          "data": {
            "text/plain": [
              "LogisticRegression()"
            ]
          },
          "metadata": {},
          "execution_count": 85
        }
      ],
      "source": [
        "lr = LogisticRegression()\n",
        "lr.fit(train_x_vector, y_train)"
      ]
    },
    {
      "cell_type": "markdown",
      "source": [
        "# 5. Evaluacion del Modelo"
      ],
      "metadata": {
        "id": "k8fPQ9d6yf03"
      }
    },
    {
      "cell_type": "markdown",
      "source": [
        "## 5.1 Score (Accuracy)"
      ],
      "metadata": {
        "id": "3PTfp8WXyj5_"
      }
    },
    {
      "cell_type": "code",
      "source": [
        "# Compración de precisión de los modelos\n",
        "print(svc.score(test_x_vector, y_test))\n",
        "print(dec_tree.score(test_x_vector, y_test))\n",
        "print(gnb.score(test_x_vector.toarray(), y_test))\n",
        "print(lr.score(test_x_vector, y_test))"
      ],
      "metadata": {
        "colab": {
          "base_uri": "https://localhost:8080/"
        },
        "id": "NXVR_wkMym5n",
        "outputId": "50f007fa-0a83-4dbb-e3d4-0d4193b58b1b"
      },
      "execution_count": 86,
      "outputs": [
        {
          "output_type": "stream",
          "name": "stdout",
          "text": [
            "0.8825\n",
            "0.7\n",
            "0.615\n",
            "0.8725\n"
          ]
        }
      ]
    },
    {
      "cell_type": "markdown",
      "source": [
        "## 5.2 F1 Score\n",
        "F1 Score = 2*(Recall * Precision) / (Recall + Precision)"
      ],
      "metadata": {
        "id": "A3pRn1nYy7Vb"
      }
    },
    {
      "cell_type": "code",
      "source": [
        "# Calculamos el F1 Score\n",
        "f1_score(y_test, svc.predict(test_x_vector),\n",
        "         labels=['positive', 'negative'],\n",
        "         average=None)"
      ],
      "metadata": {
        "colab": {
          "base_uri": "https://localhost:8080/"
        },
        "id": "bi3eQ6LAzADw",
        "outputId": "b0856192-9abd-40b2-a374-b7180bc4a5f4"
      },
      "execution_count": 87,
      "outputs": [
        {
          "output_type": "execute_result",
          "data": {
            "text/plain": [
              "array([0.88729017, 0.8772846 ])"
            ]
          },
          "metadata": {},
          "execution_count": 87
        }
      ]
    },
    {
      "cell_type": "markdown",
      "source": [
        "## 5.3 Reporte de Clasificación"
      ],
      "metadata": {
        "id": "FY7O7ehJzJ0p"
      }
    },
    {
      "cell_type": "code",
      "source": [
        "# Reporte de clasificación\n",
        "print(classification_report(y_test, svc.predict(test_x_vector),\n",
        "                      labels=['positive', 'negative']))"
      ],
      "metadata": {
        "colab": {
          "base_uri": "https://localhost:8080/"
        },
        "id": "SYAxraoizLip",
        "outputId": "8188f166-89b7-4e04-f26e-438aa8e55109"
      },
      "execution_count": 88,
      "outputs": [
        {
          "output_type": "stream",
          "name": "stdout",
          "text": [
            "              precision    recall  f1-score   support\n",
            "\n",
            "    positive       0.86      0.92      0.89       201\n",
            "    negative       0.91      0.84      0.88       199\n",
            "\n",
            "    accuracy                           0.88       400\n",
            "   macro avg       0.88      0.88      0.88       400\n",
            "weighted avg       0.88      0.88      0.88       400\n",
            "\n"
          ]
        }
      ]
    },
    {
      "cell_type": "markdown",
      "source": [
        "## 5.4 Confusion Matrix"
      ],
      "metadata": {
        "id": "qQXFCPMszSHB"
      }
    },
    {
      "cell_type": "code",
      "source": [
        "# Matriz de confusión\n",
        "cnf_matrix = confusion_matrix(y_test, svc.predict(test_x_vector),\n",
        "                 labels=['positive', 'negative'])\n"
      ],
      "metadata": {
        "id": "E2VIXf1szTiY"
      },
      "execution_count": 89,
      "outputs": []
    },
    {
      "cell_type": "code",
      "source": [
        "# Gráfica de matriz de confusión\n",
        "class_names = [0, 1]\n",
        "fig, ax = plt.subplots()\n",
        "tick_marks = np.arange(len(class_names))\n",
        "plt.xticks(tick_marks, class_names)\n",
        "plt.yticks(tick_marks, class_names)\n",
        "\n",
        "sns.heatmap(pd.DataFrame(cnf_matrix), annot = True, cmap = \"Blues_r\", fmt = \"g\")\n",
        "ax.xaxis.set_label_position(\"top\")\n",
        "plt.tight_layout()\n",
        "plt.title(\"Matriz de confusión\", y = 1.1)\n",
        "plt.ylabel(\"Etiqueta actual\")\n",
        "plt.xlabel(\"Etiqueta de predicción\")"
      ],
      "metadata": {
        "colab": {
          "base_uri": "https://localhost:8080/",
          "height": 343
        },
        "id": "zZKyFIXz4-vc",
        "outputId": "fce47e16-56f0-4dfd-e3bc-d7ac3589daee"
      },
      "execution_count": 90,
      "outputs": [
        {
          "output_type": "execute_result",
          "data": {
            "text/plain": [
              "Text(0.5, 257.44, 'Etiqueta de predicción')"
            ]
          },
          "metadata": {},
          "execution_count": 90
        },
        {
          "output_type": "display_data",
          "data": {
            "image/png": "[encoded data removed]",
            "text/plain": [
              "<Figure size 432x288 with 2 Axes>"
            ]
          },
          "metadata": {
            "needs_background": "light"
          }
        }
      ]
    },
    {
      "cell_type": "markdown",
      "source": [
        "# 6. Optimización del Modelo"
      ],
      "metadata": {
        "id": "CNTUmO1hzaIQ"
      }
    },
    {
      "cell_type": "markdown",
      "source": [
        "## 6.1 GridSearchCV"
      ],
      "metadata": {
        "id": "c1Xtpz98zewa"
      }
    },
    {
      "cell_type": "code",
      "source": [
        "# GridSearchCV\n",
        "paremetros = {'C':[1,4,8,16,32], 'kernel':['linear', 'rbf']}\n",
        "svc = SVC()\n",
        "svc_grid = GridSearchCV(svc, paremetros, cv=5)\n",
        "svc_grid.fit(train_x_vector, y_train)"
      ],
      "metadata": {
        "colab": {
          "base_uri": "https://localhost:8080/"
        },
        "id": "m9wySy4oziQx",
        "outputId": "a622f0a5-7832-4eb5-a54b-7225905d0ab5"
      },
      "execution_count": 65,
      "outputs": [
        {
          "output_type": "execute_result",
          "data": {
            "text/plain": [
              "GridSearchCV(cv=5, estimator=SVC(),\n",
              "             param_grid={'C': [1, 4, 8, 16, 32], 'kernel': ['linear', 'rbf']})"
            ]
          },
          "metadata": {},
          "execution_count": 65
        }
      ]
    },
    {
      "cell_type": "code",
      "source": [
        "# Mejor estimador y parametros\n",
        "print(svc_grid.best_estimator_)\n",
        "print(svc_grid.best_params_)"
      ],
      "metadata": {
        "colab": {
          "base_uri": "https://localhost:8080/"
        },
        "id": "nyCNhqjb7OWB",
        "outputId": "41e62ba9-d04c-401a-8ae3-d23fe94abe15"
      },
      "execution_count": 66,
      "outputs": [
        {
          "output_type": "stream",
          "name": "stdout",
          "text": [
            "SVC(C=1, kernel='linear')\n",
            "{'C': 1, 'kernel': 'linear'}\n"
          ]
        }
      ]
    },
    {
      "cell_type": "code",
      "source": [
        "# Score del modelo\n",
        "svc_grid.best_score_"
      ],
      "metadata": {
        "colab": {
          "base_uri": "https://localhost:8080/"
        },
        "id": "xHps3G7j7dpi",
        "outputId": "43cc1ca8-4496-4ac0-cafd-91eebefde18a"
      },
      "execution_count": 67,
      "outputs": [
        {
          "output_type": "execute_result",
          "data": {
            "text/plain": [
              "0.8362499999999999"
            ]
          },
          "metadata": {},
          "execution_count": 67
        }
      ]
    }
  ],
  "metadata": {
    "colab": {
      "name": "Clasificación_texto_Scikit-learn.ipynb",
      "provenance": []
    },
    "kernelspec": {
      "display_name": "Python 3",
      "name": "python3"
    },
    "language_info": {
      "name": "python"
    }
  },
  "nbformat": 4,
  "nbformat_minor": 0
}